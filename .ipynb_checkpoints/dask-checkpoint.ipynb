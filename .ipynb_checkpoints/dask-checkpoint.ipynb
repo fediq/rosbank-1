{
 "cells": [
  {
   "cell_type": "code",
   "execution_count": 1,
   "metadata": {},
   "outputs": [
    {
     "name": "stdout",
     "output_type": "stream",
     "text": [
      "Populating the interactive namespace from numpy and matplotlib\n"
     ]
    }
   ],
   "source": [
    "import dask.dataframe as dd\n",
    "import pandas as pd\n",
    "import numpy as np\n",
    "from lightgbm import LGBMClassifier, cv, Dataset, train, plot_importance, LGBMRegressor\n",
    "import re\n",
    "import datetime\n",
    "from sklearn.preprocessing import LabelEncoder\n",
    "%pylab inline\n",
    "from util import *\n",
    "import pickle\n",
    "from sklearn.model_selection import ParameterGrid, StratifiedKFold, cross_val_score, KFold\n",
    "from tqdm import tqdm\n",
    "import scipy.stats\n",
    "from sklearn.metrics import roc_auc_score, mean_squared_error\n",
    "from sklearn.cluster import KMeans, MeanShift, estimate_bandwidth\n",
    "from sklearn.neighbors import KNeighborsClassifier\n",
    "from sklearn.preprocessing import normalize, StandardScaler\n",
    "from catboost import CatBoostClassifier, CatBoostRegressor\n",
    "from sklearn.base import clone\n",
    "from dateutil.relativedelta import relativedelta\n",
    "import json\n",
    "from dask.multiprocessing import get\n",
    "import re\n",
    "from collections import defaultdict\n",
    "from xgboost import XGBClassifier"
   ]
  },
  {
   "cell_type": "code",
   "execution_count": 2,
   "metadata": {},
   "outputs": [
    {
     "name": "stderr",
     "output_type": "stream",
     "text": [
      "/home/light/Projects/kaggle/rosbank/util.py:49: FutureWarning: Sorting because non-concatenation axis is not aligned. A future version\n",
      "of pandas will change to not sort by default.\n",
      "\n",
      "To accept the future behavior, pass 'sort=True'.\n",
      "\n",
      "To retain the current behavior and silence the warning, pass sort=False\n",
      "\n",
      "  df = pd.concat([df, pd.DataFrame(date_spaces)])\n"
     ]
    }
   ],
   "source": [
    "# Data loading, base preprocessing in module util.py\n",
    "df = load('train.csv')\n",
    "Y = df.groupby('cl_id')['target_flag'].first()\n",
    "Y_reg = df.groupby('cl_id')['target_sum'].first()"
   ]
  },
  {
   "cell_type": "code",
   "execution_count": 3,
   "metadata": {},
   "outputs": [],
   "source": [
    "# Prepare table for parallel computation\n",
    "df_dask = dd.from_pandas(df, npartitions=8)\n",
    "trx_categories = df['trx_category'].unique()"
   ]
  },
  {
   "cell_type": "code",
   "execution_count": 4,
   "metadata": {},
   "outputs": [
    {
     "name": "stderr",
     "output_type": "stream",
     "text": [
      "/home/light/Projects/kaggle/rosbank/util.py:49: FutureWarning: Sorting because non-concatenation axis is not aligned. A future version\n",
      "of pandas will change to not sort by default.\n",
      "\n",
      "To accept the future behavior, pass 'sort=True'.\n",
      "\n",
      "To retain the current behavior and silence the warning, pass sort=False\n",
      "\n",
      "  df = pd.concat([df, pd.DataFrame(date_spaces)])\n"
     ]
    }
   ],
   "source": [
    "# Test dataframe data loading, preprocessing and preparation for parallel computing\n",
    "test = dd.from_pandas(load('test.csv'), npartitions=8)"
   ]
  },
  {
   "cell_type": "code",
   "execution_count": 5,
   "metadata": {},
   "outputs": [
    {
     "name": "stderr",
     "output_type": "stream",
     "text": [
      "/home/light/miniconda3/lib/python3.6/site-packages/ipykernel_launcher.py:150: UserWarning: `meta` is not specified, inferred from partial data. Please provide `meta` if the result is unexpected.\n",
      "  Before: .apply(func)\n",
      "  After:  .apply(func, meta={'x': 'f8', 'y': 'f8'}) for dataframe result\n",
      "  or:     .apply(func, meta=('x', 'f8'))            for series result\n"
     ]
    }
   ],
   "source": [
    "def cl_features(d):\n",
    "    \"\"\"\n",
    "    Feature preparation\n",
    "        arg: d - pd.DataFrame - Frame for each customer\n",
    "    \"\"\"\n",
    "    result = dict()\n",
    "    trx_categories = ['POS', 'DEPOSIT', 'CACH_OUT']\n",
    "    test_mode = d['trx_category'].iloc[0] == 'foo'\n",
    "    d = d.sort_values('TRDATETIME')\n",
    "    if 'target_flag' in d.columns:\n",
    "        result['target_flag'] = d.iloc[0]['target_flag']\n",
    "        result['target_sum'] = d.iloc[0]['target_sum']\n",
    "    \n",
    "    # Time features\n",
    "    min_pos = d['day'][d['trx_category']=='POS'].min()\n",
    "        \n",
    "    result['cl_id'] = d.iloc[0]['cl_id']\n",
    "    \n",
    "    result['min_month'] = d['month'].min()\n",
    "    result['max_month'] = d['month'].max()\n",
    "        \n",
    "    result['month_diff'] = result['max_month']-result['min_month']\n",
    "    result['min_day'] = d['day'].min()\n",
    "    result['max_day'] = d['day'].max()\n",
    "    result['day_diff'] = result['max_day']-result['min_day']\n",
    "        \n",
    "    min_hour = 2\n",
    "    max_hour = 23\n",
    "    result['night'] = ((d['hour']<=min_hour)| (d['hour']>=max_hour)).sum()/(((d['hour']>min_hour)& (d['hour']<max_hour)).sum()+1)\n",
    "    result['night2'] = (((d['hour']>0) & (d['hour']<=min_hour))| (d['hour']>=max_hour)).sum()/(((d['hour']>min_hour)& (d['hour']<23)).sum()+1)\n",
    "\n",
    "    result['full_night'] = (d['hour']==0).sum()\n",
    "    result['mean_day'] = d['day'].mean()\n",
    "    \n",
    "    d['day_d'] = d['day']-result['min_day']\n",
    "    result['day_std'] = d['day_d'].std()\n",
    "    result['start_day_calendar'] = d['TRDATETIME'].min().day\n",
    "    result['end_day_calendar'] = d['TRDATETIME'].max().day\n",
    "    result['3_months2'] = d['TRDATETIME'].min()+relativedelta(months=3)>d['TRDATETIME'].max()\n",
    "    \n",
    "    amounts = defaultdict(list)\n",
    "    counts = defaultdict(list)\n",
    "    # By month calendar\n",
    "    for i in range(5):\n",
    "        start = result['min_month']+i\n",
    "        end = result['min_month']+i+1\n",
    "        \n",
    "        last_n = d[['trx_category', 'amount', 'month', 'MCC', 'MCC_group', 'TRDATETIME']][((d['month']>=start)&(d['month']<end))]\n",
    "        \n",
    "        result[f'month_mcc_unique_{i}'] = len(last_n['MCC'].unique())\n",
    "        result[f'month_trx_cat_unique_{i}'] = len(last_n['trx_category'].unique())\n",
    "        \n",
    "        user_trx_categories = last_n['trx_category'].value_counts()\n",
    "        user_trx_categories_amount = last_n.groupby('trx_category')['amount'].sum()\n",
    "        \n",
    "        for trx_category in trx_categories:\n",
    "            result[f'trx_category_{i}'+trx_category] = user_trx_categories.get(trx_category, 0)\n",
    "            result[f'trx_category_amount_{i}'+trx_category] = user_trx_categories_amount.get(trx_category, 0)\n",
    "            \n",
    "            counts[trx_category].append(user_trx_categories.get(trx_category, 0))\n",
    "            amounts[trx_category].append(user_trx_categories_amount.get(trx_category, 0))\n",
    "            \n",
    "        result['month_count_'+str(i)] = last_n.shape[0]\n",
    "        result['month_amountsum_'+str(i)] = last_n['amount'].sum()\n",
    "        result['dep_wd'] = last_n['amount'][last_n['trx_category']=='CACH_OUT'].sum() - last_n['amount'][last_n['trx_category']=='DEPOSIT'].sum()\n",
    "        \n",
    "        # By all period\n",
    "        if i==0:\n",
    "            end = 10**6\n",
    "            last_n = d[['trx_category', 'amount', 'month']][((d['month']>=start)&(d['month']<end))]\n",
    "            result['month_count2_'+str(i)] = last_n.shape[0]\n",
    "            result['month_amountsum2_'+str(i)] = last_n['amount'].sum()\n",
    "\n",
    "\n",
    "            user_trx_categories = last_n['trx_category'].value_counts()\n",
    "            user_trx_categories_amount = last_n.groupby('trx_category')['amount'].mean()\n",
    "            \n",
    "            for trx_category in trx_categories:\n",
    "                result['trx_category2_{i}'+trx_category] = user_trx_categories.get(trx_category, 0)\n",
    "                result['trx_category_amount2_{i}'+trx_category] = user_trx_categories_amount.get(trx_category, 0)\n",
    "    \n",
    "    # Index of max value in array\n",
    "    for key, value in amounts.items():\n",
    "        result[f'max_{key}_amount_month'] = np.argmax(value)\n",
    "        \n",
    "    # Index of max value in array\n",
    "    for key, value in counts.items():\n",
    "        result[f'max_{key}_count_month'] = np.argmax(value)\n",
    "                \n",
    "    # Last month\n",
    "    min_pos_date = d['TRDATETIME'][d['trx_category']=='POS'].min()\n",
    "    start = min_pos_date+relativedelta(months=2) if not test_mode else datetime.datetime.now()\n",
    "    end = min_pos_date+relativedelta(months=4) if not test_mode else datetime.datetime.now()\n",
    "\n",
    "    last_n = d[['trx_category', 'amount', 'month', 'MCC', 'MCC_group']][((d['TRDATETIME']>=start)&(d['TRDATETIME']<end))]\n",
    "    result[f'month_mcc_unique3'] = len(last_n['MCC'].unique())\n",
    "    \n",
    "    user_trx_categories = last_n['trx_category'].value_counts()\n",
    "    user_trx_categories_amount = last_n.groupby('trx_category')['amount'].sum()\n",
    "    \n",
    "    for trx_category in trx_categories:\n",
    "        result[f'trx_category3'+trx_category] = user_trx_categories.get(trx_category, 0)\n",
    "        result[f'trx_category_amount3'+trx_category] = user_trx_categories_amount.get(trx_category, 0)\n",
    "\n",
    "    result['month_count3'] = last_n.shape[0]\n",
    "    result['month_amountsum3'] = last_n['amount'].sum()\n",
    "    \n",
    "    # Last N transactions\n",
    "    for r in [15, 30]:\n",
    "        last_n = d.tail(r)\n",
    "        user_trx_categories = last_n['trx_category'].value_counts()\n",
    "        user_trx_categories_amount = last_n.groupby('trx_category')['amount'].sum()\n",
    "        \n",
    "        for trx_category in trx_categories:\n",
    "            result[f'trx_category6_{r}'+trx_category] = user_trx_categories.get(trx_category, 0)\n",
    "            result[f'trx_category_amount6_{r}'+trx_category] = user_trx_categories_amount.get(trx_category, 0)\n",
    "        \n",
    "    # By transaction type - time features\n",
    "    \n",
    "    result['has_deposit'] = (d['trx_category']=='DEPOSIT').sum()>0\n",
    "    for c in trx_categories:\n",
    "        dd = d['day'][d['trx_category']==c]\n",
    "        dt = d['TRDATETIME'][d['trx_category']==c]\n",
    "        dm = d['month'][d['trx_category']==c]\n",
    "        da = d['amount'][d['trx_category']==c]\n",
    "        \n",
    "        not_empty = dd.shape[0]>0\n",
    "    \n",
    "        result[f'min_day_{c}'] = dd.min() if not_empty else -1\n",
    "        result[f'max_day_{c}'] = dd.max() if not_empty else -1\n",
    "        result[f'day_diff_{c}'] = result[f'max_day_{c}'] - result[f'min_day_{c}'] if not_empty else -1\n",
    "        \n",
    "        result[f'min_month_{c}'] = dm.min() if not_empty else -1\n",
    "        result[f'max_month_{c}'] = dm.max() if not_empty else -1\n",
    "        \n",
    "        result[f'month_diff_{c}'] = result[f'max_month_{c}'] - result[f'min_month_{c}'] if not_empty else -1\n",
    "        dd -= result[f'min_day_{c}']\n",
    "        result[f'day_std_{c}'] = dd.std() if not_empty else -1\n",
    "         \n",
    "    if not test_mode:\n",
    "        d = d.loc[d['day']>=min_pos]\n",
    "        \n",
    "    # Index of transaction with Max amount by category\n",
    "    result['3_months'] = (d['TRDATETIME'].max()-d['TRDATETIME'].min()).days>=90\n",
    "    min_day = d['day'].min()\n",
    "    pos_tr = d.loc[d['trx_category']=='POS']\n",
    "    result['pos_sum'] = pos_tr['amount'].sum()\n",
    "    max_pos_index = pos_tr['amount'].idxmax() if not test_mode else 0\n",
    "    result['max_day_idx_pos'] = pos_tr.loc[max_pos_index]['day']-min_day if not test_mode else 0\n",
    "    \n",
    "    out_tr = d.loc[d['trx_category'].isin(['CACH_OUT', 'WD_ATM_PARTNER', 'WD_ATM_ROS', 'WD_ATM_OTHER'])]\n",
    "    max_out_index = out_tr['amount'].idxmax() if out_tr.shape[0]>0 else -1\n",
    "    result['max_day_idx_out'] = out_tr.loc[max_out_index]['day']-min_pos if out_tr.shape[0]>0 else -1\n",
    "    \n",
    "    return pd.Series(result)\n",
    "\n",
    "def features(df):\n",
    "    agg = df.groupby('cl_id').apply(lambda x: cl_features(x)).fillna(0)\n",
    "    if 'target_flag' in agg.columns:\n",
    "        return agg.drop(['target_flag', 'target_sum'], 1), agg['target_flag'], agg['target_sum']\n",
    "    return agg\n",
    "\n",
    "X, _, _ = features(df_dask)"
   ]
  },
  {
   "cell_type": "code",
   "execution_count": 7,
   "metadata": {},
   "outputs": [
    {
     "name": "stderr",
     "output_type": "stream",
     "text": [
      "/home/light/miniconda3/lib/python3.6/site-packages/ipykernel_launcher.py:2: FutureWarning: 'cl_id' is both an index level and a column label.\n",
      "Defaulting to column, but this will raise an ambiguity error in a future version\n",
      "  \n"
     ]
    }
   ],
   "source": [
    "# Real code execution\n",
    "X = X.compute(get=get).sort_values('cl_id').sort_values('cl_id')"
   ]
  },
  {
   "cell_type": "code",
   "execution_count": 8,
   "metadata": {},
   "outputs": [],
   "source": [
    "# Removing outliers. No improvements on private score\n",
    "not_outliers = np.where(Y_reg<np.exp(14))[0]\n",
    "X2 = X.copy().iloc[not_outliers]\n",
    "Y2 = Y.copy().iloc[not_outliers]\n",
    "Y2_reg = Y_reg.copy().iloc[not_outliers]"
   ]
  },
  {
   "cell_type": "code",
   "execution_count": 9,
   "metadata": {},
   "outputs": [
    {
     "name": "stdout",
     "output_type": "stream",
     "text": [
      "0.8823952017427107\n",
      "767\n"
     ]
    }
   ],
   "source": [
    "# Кросс валидация\n",
    "params = {'bagging_fraction': 0.55, 'bagging_freq': 2, 'colsample_bytree': 0.8, \n",
    "          'learning_rate': 0.01, 'max_bin': 255, 'max_depth': -1, 'metric': 'auc', \n",
    "          'min_data_in_leaf': 20, 'num_leaves': 16, 'objective': 'binary', 'reg_alpha': 0.4,\n",
    "          'reg_lambda': 0.55, 'verbose': -1\n",
    "         }\n",
    "\n",
    "_ = cv(params, Dataset(X2, Y2), verbose_eval=False, \n",
    "       seed=4, num_boost_round=2000, early_stopping_rounds=100, nfold=10\n",
    "      )\n",
    "print(max(_['auc-mean']))\n",
    "print(np.array(_['auc-mean']).argmax())"
   ]
  },
  {
   "cell_type": "code",
   "execution_count": 10,
   "metadata": {},
   "outputs": [
    {
     "data": {
      "text/plain": [
       "<matplotlib.axes._subplots.AxesSubplot at 0x7f7cb9c171d0>"
      ]
     },
     "execution_count": 10,
     "metadata": {},
     "output_type": "execute_result"
    },
    {
     "data": {
      "image/png": "[encoded data removed]",
      "text/plain": [
       "<Figure size 1152x1152 with 1 Axes>"
      ]
     },
     "metadata": {},
     "output_type": "display_data"
    }
   ],
   "source": [
    "model = train(params, Dataset(X2, Y2), num_boost_round=770)\n",
    "plot_importance(model, figsize=(16,16), importance_type='gain', max_num_features=5)"
   ]
  },
  {
   "cell_type": "code",
   "execution_count": 11,
   "metadata": {},
   "outputs": [
    {
     "name": "stderr",
     "output_type": "stream",
     "text": [
      "/home/light/miniconda3/lib/python3.6/site-packages/ipykernel_launcher.py:150: UserWarning: `meta` is not specified, inferred from partial data. Please provide `meta` if the result is unexpected.\n",
      "  Before: .apply(func)\n",
      "  After:  .apply(func, meta={'x': 'f8', 'y': 'f8'}) for dataframe result\n",
      "  or:     .apply(func, meta=('x', 'f8'))            for series result\n",
      "/home/light/miniconda3/lib/python3.6/site-packages/ipykernel_launcher.py:2: FutureWarning: 'cl_id' is both an index level and a column label.\n",
      "Defaulting to column, but this will raise an ambiguity error in a future version\n",
      "  \n"
     ]
    }
   ],
   "source": [
    "# Preparting features for test dataset\n",
    "X_test = features(test).compute(get=get).sort_values('cl_id')"
   ]
  },
  {
   "cell_type": "markdown",
   "metadata": {},
   "source": [
    "## A"
   ]
  },
  {
   "cell_type": "code",
   "execution_count": 12,
   "metadata": {},
   "outputs": [],
   "source": [
    "def ensemble_a(x, y):\n",
    "    params = {'bagging_fraction': 0.55, 'bagging_freq': 2, 'colsample_bytree': 0.8, \n",
    "          'learning_rate': 0.01, 'max_bin': 255, 'max_depth': -1, 'metric': 'auc', \n",
    "          'min_data_in_leaf': 20, 'num_leaves': 16, 'objective': 'binary', 'reg_alpha': 0.4,\n",
    "          'reg_lambda': 0.55, 'verbose': -1}\n",
    "\n",
    "    model = train(params, Dataset(x, y), num_boost_round=770)\n",
    "    k_model = CatBoostClassifier(eval_metric='AUC', iterations=750, logging_level='Silent', max_depth=7,\n",
    "                                 learning_rate=0.02, random_seed=np.random.choice(10000), l2_leaf_reg=32\n",
    "                                )\n",
    "    k_model.fit(x, y)\n",
    "\n",
    "    xg_model = XGBClassifier(n_estimators=770, learning_rate=0.01, subsample=0.55, colsample_bytree=0.8,\n",
    "                      max_depth=7, min_child_weight=1, reg_alpha=0.4, reg_lambda=0.55\n",
    "                     )\n",
    "\n",
    "    xg_model.fit(x, y)\n",
    "\n",
    "    a_pred = 0.4*model.predict(X_test)+0.4*xg_model.predict_proba(X_test)[:,1] + 0.2*k_model.predict_proba(X_test)[:,1]\n",
    "    \n",
    "    return a_pred"
   ]
  },
  {
   "cell_type": "code",
   "execution_count": 13,
   "metadata": {},
   "outputs": [],
   "source": [
    "a_pred = ensemble_a(X2, Y2)"
   ]
  },
  {
   "cell_type": "markdown",
   "metadata": {},
   "source": [
    "#### Pseudo labeling"
   ]
  },
  {
   "cell_type": "code",
   "execution_count": 14,
   "metadata": {},
   "outputs": [],
   "source": [
    "valid_idx = np.where((a_pred>=0.95)|(a_pred<0.05))[0]\n",
    "X3 = pd.concat([X2, X_test.iloc[valid_idx]])\n",
    "Y3 = np.array(Y2.tolist()+ (a_pred[valid_idx]>=0.9).tolist())"
   ]
  },
  {
   "cell_type": "code",
   "execution_count": 15,
   "metadata": {},
   "outputs": [
    {
     "data": {
      "text/plain": [
       "(6085, 127)"
      ]
     },
     "execution_count": 15,
     "metadata": {},
     "output_type": "execute_result"
    }
   ],
   "source": [
    "X3.shape"
   ]
  },
  {
   "cell_type": "code",
   "execution_count": 16,
   "metadata": {},
   "outputs": [],
   "source": [
    "a_pred = ensemble_a(X3, Y3)"
   ]
  },
  {
   "cell_type": "code",
   "execution_count": 17,
   "metadata": {},
   "outputs": [],
   "source": [
    "pd.DataFrame({'_ID_': X_test.index, '_VAL_': a_pred}).to_csv('submission_a.csv', index=False)"
   ]
  },
  {
   "cell_type": "code",
   "execution_count": 18,
   "metadata": {},
   "outputs": [
    {
     "data": {
      "text/plain": [
       "array([0.94384193, 0.8212521 , 0.70903157, 0.76372934, 0.97636015])"
      ]
     },
     "execution_count": 18,
     "metadata": {},
     "output_type": "execute_result"
    }
   ],
   "source": [
    "a_pred[:5]"
   ]
  },
  {
   "cell_type": "markdown",
   "metadata": {},
   "source": [
    "## B"
   ]
  },
  {
   "cell_type": "code",
   "execution_count": 19,
   "metadata": {},
   "outputs": [
    {
     "name": "stdout",
     "output_type": "stream",
     "text": [
      "3.8265194013908603\n",
      "654\n"
     ]
    }
   ],
   "source": [
    "params = {'bagging_fraction': 0.55, 'bagging_freq': 2, 'colsample_bytree': 0.5, \n",
    "          'learning_rate': 0.01, 'max_bin': 255, 'max_depth': -1, 'metric': 'rmse', \n",
    "          'min_data_in_leaf': 20, 'num_leaves': 16, 'objective': 'rmse', \n",
    "          'reg_alpha': 0.4,\n",
    "          'reg_lambda': 0.55, 'verbose': -1\n",
    "         }\n",
    "\n",
    "_ = cv(params, Dataset(X2, np.log(1+Y2_reg)), verbose_eval=False,\n",
    "       seed=200, num_boost_round=2000, early_stopping_rounds=100, stratified=False, nfold=10\n",
    "      )\n",
    "print(min(_['rmse-mean']))\n",
    "print(np.array(_['rmse-mean']).argmin())"
   ]
  },
  {
   "cell_type": "code",
   "execution_count": 22,
   "metadata": {},
   "outputs": [
    {
     "data": {
      "text/plain": [
       "<matplotlib.axes._subplots.AxesSubplot at 0x7f7cf4f27b38>"
      ]
     },
     "execution_count": 22,
     "metadata": {},
     "output_type": "execute_result"
    },
    {
     "data": {
      "image/png": "[encoded data removed]",
      "text/plain": [
       "<Figure size 1152x1152 with 1 Axes>"
      ]
     },
     "metadata": {},
     "output_type": "display_data"
    }
   ],
   "source": [
    "params = {'bagging_fraction': 0.55, 'bagging_freq': 2, 'colsample_bytree': 0.8, \n",
    "          'learning_rate': 0.01, 'max_bin': 255, 'max_depth': -1, 'metric': 'rmse', \n",
    "          'min_data_in_leaf': 20, 'num_leaves': 16, 'objective': 'rmse', \n",
    "          'reg_alpha': 0.4,\n",
    "          'reg_lambda': 0.55, 'verbose': -1\n",
    "         }\n",
    "model = train(params, Dataset(X2, np.log(1+Y2_reg)), num_boost_round=770)\n",
    "plot_importance(model, figsize=(16,16), importance_type='gain', max_num_features=10)"
   ]
  },
  {
   "cell_type": "code",
   "execution_count": 21,
   "metadata": {},
   "outputs": [],
   "source": [
    "from xgboost import XGBRegressor\n",
    "\n",
    "params = {'bagging_fraction': 0.55, 'bagging_freq': 2, 'colsample_bytree': 0.5, \n",
    "          'learning_rate': 0.01, 'max_bin': 255, 'max_depth': -1, 'metric': 'rmse', \n",
    "          'min_data_in_leaf': 20, 'num_leaves': 16, 'objective': 'rmse', 'reg_alpha': 0.4,\n",
    "          'reg_lambda': 0.55, 'verbose': -1}\n",
    "\n",
    "model = train(params, Dataset(X2, np.log(1+Y2_reg)), num_boost_round=770)\n",
    "model_pred = np.exp(model.predict(X_test))-1\n",
    "\n",
    "xgb = XGBRegressor(n_estimators=770, learning_rate=0.01, subsample=0.55, colsample_bytree=0.5,\n",
    "                  max_depth=5, min_child_weight=1, reg_alpha=0.4, reg_lambda=0.75)\n",
    "xgb.fit(X2, np.log(1+Y2_reg))\n",
    "xgb_pred = np.exp(xgb.predict(X_test))-1\n",
    "\n",
    "k = CatBoostRegressor(eval_metric='AUC', iterations=800, \n",
    "                      logging_level='Silent', max_depth=8, learning_rate=0.02,\n",
    "                      l2_leaf_reg=12\n",
    "                      )\n",
    "\n",
    "k.fit(X2, np.log(1+Y2_reg))\n",
    "k_pred = np.exp(k.predict(X_test))-1\n",
    "\n",
    "b_pred = 0.4*model_pred+0.4*xgb_pred+0.2*k_pred\n",
    "\n",
    "b_pred=np.clip(b_pred, 0, b_pred.max())\n",
    "pd.DataFrame({'_ID_': X_test.index, '_VAL_': b_pred}).to_csv('submission_b.csv', index=False)"
   ]
  }
 ],
 "metadata": {
  "kernelspec": {
   "display_name": "Python 3",
   "language": "python",
   "name": "python3"
  },
  "language_info": {
   "codemirror_mode": {
    "name": "ipython",
    "version": 3
   },
   "file_extension": ".py",
   "mimetype": "text/x-python",
   "name": "python",
   "nbconvert_exporter": "python",
   "pygments_lexer": "ipython3",
   "version": "3.6.4"
  }
 },
 "nbformat": 4,
 "nbformat_minor": 2
}
